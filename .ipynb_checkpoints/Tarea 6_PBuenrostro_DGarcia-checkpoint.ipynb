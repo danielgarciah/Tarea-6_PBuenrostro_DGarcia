{
 "cells": [
  {
   "cell_type": "markdown",
   "metadata": {},
   "source": [
    "<img style=\"float: left; margin: 30px 15px 15px 15px;\" src=\"https://pngimage.net/wp-content/uploads/2018/06/logo-iteso-png-5.png\" width=\"300\" height=\"500\" /> \n",
    "    \n",
    "    \n",
    "### <font color='navy'> Simulación de procesos financieros. \n",
    "\n",
    "**Nombres:** Patricia Buenrostro Mendez, Daniel García Hernández\n",
    "\n",
    "**Fecha:** 29 de febrero del 2020.\n",
    "\n",
    "**Expediente** : 715066, 715989.\n",
    "**Profesor:** Oscar David Jaramillo Zuluaga.\n",
    "\n",
    "# Tarea 6: Clase 10"
   ]
  },
  {
   "cell_type": "markdown",
   "metadata": {},
   "source": [
    "## Parámetros de entrega\n",
    "Voy a habilitar un link en Canvas donde deben de subir su cuaderno de python con la sulución de los problemas planteados en parejas. La podrán entregar a mas tardar el Jueves 5 de marzo a las 6pm. Como será en parejas, deben de crear un proyecto conjunto en github y realizar los ejercicios de manera conjunta, de manera similar a como realizaron los ejercicios en la tarea 1. **Deben de poner en la solución de la tarea el enlace de github de el administrador del repositorio**, del cuál me basaré para poner la calificación."
   ]
  },
  {
   "cell_type": "markdown",
   "metadata": {},
   "source": [
    "### Ejercicio 1: \n",
    "Seguir un procedimiento similar al mostrado cuando se generó una distribución binomial, pero en esta caso genere un código que genere variables aletorias Poisson cuya función de distribución de probabilidad esta dada por:\n",
    ">$$P(k,\\lambda)=\\frac{e^{-\\lambda}(\\lambda)^k}{k!}$$\n",
    "    \n",
    "> Demuestre matemáticamente que \n",
    "> $$P(k+1)=\\frac{\\lambda}{k+1}P(k)$$\n",
    "> y a partir de esta relación genere variables aletorias que distribuyen poisson usando el método de la transformada inversa.\n",
    "\n",
    "Enlace: https://es.wikipedia.org/wiki/Distribuci%C3%B3n_de_Poisson"
   ]
  },
  {
   "cell_type": "markdown",
   "metadata": {},
   "source": [
    "Tomamos \n",
    "$$P(k,\\lambda)=\\frac{e^{-\\lambda}(\\lambda)^k}{k!}$$\n",
    "y sustituimos $k$ por $k+1$\n",
    "$$P(k+1) = \\frac{e^{-\\lambda}\\lambda^{k+1}}{(k+1)!}$$\n",
    "separamos $\\lambda^{k+1}$ en $\\lambda^{k}\\lambda^{1}$ y obtenemos\n",
    "$$P(k+1) = \\frac{e^{-\\lambda}\\lambda^{k}\\lambda^{1}}{(k+1)!}$$\n",
    "usamos la siguiente propiedad $n! = n(n-1)!$ pero con $(k+1)!$ obeteniendo $(k+1)!=(k+1)(k+1-1)!$\n",
    "$$P(k+1) = \\frac{e^{-\\lambda}\\lambda^{k}\\lambda}{(k+1)k!}$$\n",
    "sustituimos $\\frac{e^{-\\lambda}(\\lambda)^k}{k!}=P(k)$\n",
    "$$P(k+1) = \\frac{\\lambda}{k+1}P(k)$$"
   ]
  },
  {
   "cell_type": "markdown",
   "metadata": {},
   "source": [
    "### Ejercicio 2:\n",
    "Partiendo que se desea generar variables aleatorias para la siguiente función de densidad\n",
    "$$f(x)=30(x^2-2x^3+x^4)$$\n",
    "Responda los siguientes literales:\n",
    "1. Usar como función que mayora a $f(x)$ a $t(x)=a \\sin(\\pi x)$ donde a es el máximo de la función $f(x)$ y graficarlas en una misma gráfica, para validar que en realidad si cumple la condición $t(x)\\geq f(x)$.\n",
    "2. Encontrar la función de densidad $g(x)$ según lo visto en clase. Reportar todos los cálculos realizados para encontrar dicha función usando Markdown (Latex).\n",
    "3. Usar la función encontrada en el punto 2 y utilizar el método de la transformada inversa visto en la clase 9, para generar variables aleatorias que sigan la distribución $g(x)$. **Nota:** Recuerde que el método de la transformada inversa funciona con la distribución de probabilidad acumulada y no con su densidad. Nuevamente similar al punto anterior reportar todos los cálculos usando Markdown (Latex). \n",
    "4. Según el punto 3, generar 10000 puntos aleatorios que sigan la distribución $g(x)$ y comparar con su histograma para validar que los puntos generados siguen la distribución deseada. \n",
    "5. Genere 500 puntos aleatorios usando el método de aceptación y rechazo y las funciones $f(x)$ y $t(x)$ para validar que todos los cálculos anteriores están correctamente realizados.\n",
    "6. Comparar el porcentaje de puntos de aceptación cuando se usa $t(x)$ constante y $t(x)$ un pulso senoidal. Concluir\n",
    "7. Genere una variable aleatoria $X$ a partir de la siguiente PDF\n",
    "$$f(x)=20x(1-x)^3$$ \n",
    "usando el método de aceptación y rechazo"
   ]
  },
  {
   "cell_type": "code",
   "execution_count": 1,
   "metadata": {},
   "outputs": [],
   "source": [
    "# Librería de optimización \n",
    "from scipy import optimize\n",
    "from scipy.stats import beta\n",
    "import matplotlib.pyplot as plt\n",
    "import numpy as np\n",
    "# %matplotlib notebook\n",
    "%matplotlib inline"
   ]
  },
  {
   "cell_type": "code",
   "execution_count": 99,
   "metadata": {},
   "outputs": [
    {
     "data": {
      "text/plain": [
       "<matplotlib.legend.Legend at 0x26c1fd1b908>"
      ]
     },
     "execution_count": 99,
     "metadata": {},
     "output_type": "execute_result"
    },
    {
     "data": {
      "image/png": "[encoded data removed]",
      "text/plain": [
       "<Figure size 432x288 with 1 Axes>"
      ]
     },
     "metadata": {},
     "output_type": "display_data"
    }
   ],
   "source": [
    "# Ilustración del método de aceptación y rechazo cuando se toma t(x) constante\n",
    "\n",
    "# Función objetivo \n",
    "f = lambda x:30*(x**2-2*x**3+x**4)\n",
    "# Máximo de la función f\n",
    "max_f = f(optimize.fmin(lambda x:-f(x),0,disp=False)) #El opt te da el maximo, y la f del principio es para evaluar f con \n",
    "#el resultado. \n",
    "# Función t\n",
    "t = lambda x: max_f*np.sin(np.pi*x)\n",
    "\n",
    "x = np.arange(0,1,.01)  # Rango donde se graficará las funciones\n",
    "\n",
    "# Gráficas de las funciones\n",
    "plt.plot(x,f(x),label='f(x)')\n",
    "plt.plot(x,t(x),label='t(x)')\n",
    "plt.legend()"
   ]
  },
  {
   "cell_type": "markdown",
   "metadata": {},
   "source": [
    "Al observar la gráfica podemos ver que efectivamente $t(x)>f(x)$"
   ]
  },
  {
   "cell_type": "markdown",
   "metadata": {},
   "source": [
    "2. Encontrar la función de densidad $g(x)$ según lo visto en clase. Reportar todos los cálculos realizados para encontrar dicha función usando Markdown (Latex)."
   ]
  },
  {
   "cell_type": "markdown",
   "metadata": {},
   "source": [
    "$$g(x)=\\frac{t(x)}{c}$$ donde $$c=\\int_{-\\infty}^{\\infty}t(x)dx$$\n",
    "\n",
    "Primero obtenemos $$\\int_{a}^{b}t(x)dx$$\n",
    "donde $a=0$ y $b=1$ debido a que esos son los límites de la función en la gráfica\n",
    "$$\\int_{0}^{1}t(x)d(x) = \\int_{0}^{1}a\\sin(\\pi x)= \\frac{-a\\cos(\\pi x)}{\\pi}|_{0}^{1} = -\\frac{a\\cos(\\pi)}{\\pi}+ \\frac{a\\cos(0)}{\\pi} = \\frac{a}{\\pi}+\\frac{a}{\\pi}=\\frac{2a}{\\pi}$$\n",
    "Por lo tanto\n",
    "$$g(x)=\\frac{a\\sin{\\pi x}}{\\frac{2a}{\\pi}}=\\frac{\\pi\\sin(\\pi x)}{2}$$"
   ]
  },
  {
   "cell_type": "markdown",
   "metadata": {},
   "source": [
    "3. Usar la función encontrada en el punto 2 y utilizar el método de la transformada inversa visto en la clase 9, para generar variables aleatorias que sigan la distribución $g(x)$. **Nota:** Recuerde que el método de la transformada inversa funciona con la distribución de probabilidad acumulada y no con su densidad. Nuevamente similar al punto anterior reportar todos los cálculos usando Markdown (Latex). "
   ]
  },
  {
   "cell_type": "markdown",
   "metadata": {},
   "source": []
  },
  {
   "cell_type": "markdown",
   "metadata": {},
   "source": [
    "4. Según el punto 3, generar 10000 puntos aleatorios que sigan la distribución $g(x)$ y comparar con su histograma para validar que los puntos generados siguen la distribución deseada. "
   ]
  },
  {
   "cell_type": "code",
   "execution_count": null,
   "metadata": {},
   "outputs": [],
   "source": []
  }
 ],
 "metadata": {
  "kernelspec": {
   "display_name": "Python 3",
   "language": "python",
   "name": "python3"
  },
  "language_info": {
   "codemirror_mode": {
    "name": "ipython",
    "version": 3
   },
   "file_extension": ".py",
   "mimetype": "text/x-python",
   "name": "python",
   "nbconvert_exporter": "python",
   "pygments_lexer": "ipython3",
   "version": "3.6.5"
  }
 },
 "nbformat": 4,
 "nbformat_minor": 2
}
